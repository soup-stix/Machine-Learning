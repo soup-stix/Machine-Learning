{
 "cells": [
  {
   "cell_type": "code",
   "execution_count": 2,
   "metadata": {},
   "outputs": [],
   "source": [
    "import numpy as np\n",
    "import pandas as pd\n"
   ]
  },
  {
   "cell_type": "code",
   "execution_count": 12,
   "metadata": {},
   "outputs": [],
   "source": [
    "class KMeans:\n",
    "    def __init__(self,k = 5, epochs = 100):\n",
    "        self.k = k\n",
    "        self.epochs = epochs\n",
    "\n",
    "        #indices of each clustures\n",
    "        self.clusters = [[] for _ in range(self.k)]\n",
    "\n",
    "        #mean of each cluster\n",
    "        self.centroids = []\n",
    "\n",
    "    def predict(self,X):\n",
    "        self.X = X\n",
    "        self.n_samples, self.n_features = X.shape\n",
    "\n",
    "        random_samples = np.random.choice(self.n_samples, self.k, replace=False)\n",
    "        self.centroids = [self.X[ind] for ind in random_samples]\n",
    "\n",
    "        for _ in range(self.epochs):\n",
    "            self.clusters = self.create_clusters(self.centroids)\n",
    "\n",
    "            centroids_old = self.centroids\n",
    "            self.centroids = self.new_centroids(self.clusters)\n",
    "\n",
    "            if self.is_converged(centroids_old, self.centroids):\n",
    "                break\n",
    "\n",
    "        return self.get_cluster_lables(self.clusters)\n",
    "\n",
    "    def create_clusters(self, centroids):\n",
    "        clusters = [[] for _ in range(self.k)]\n",
    "        for idx,sample in enumerate(self.X):\n",
    "            centroid_idx = self.closest_centroid(sample, centroids)\n",
    "            clusters[centroid_idx].append(idx)\n",
    "        return clusters\n",
    "    \n",
    "    def closest_centroid(self,sample,centroids):\n",
    "        distances = [euclidean_distance(sample, point) for point in centroids]\n",
    "        return np.argmin(distances)\n",
    "\n",
    "    def new_centroids(self, clusters):\n",
    "        centroids = np.zeros((self.k, self.n_features))\n",
    "        for cluster_idx, cluster in enumerate(clusters):\n",
    "            cluster_mean = np.mean(self.X[cluster], axis=0)\n",
    "            centroids[cluster_idx] = cluster_mean\n",
    "        return centroids\n",
    "\n",
    "    def is_converged(self, old, new):\n",
    "        distances = [euclidean_distance(old[i],new[i]) for i in range(self.k)]\n",
    "        return sum(distances) == 0\n",
    "\n",
    "    def get_cluster_lables(self,clusters):\n",
    "        lables = np.empty(self.n_samples)\n",
    "        for cluster_idx, cluster in enumerate(clusters):\n",
    "            for sample_idx in cluster:\n",
    "                lables[sample_idx] = cluster_idx\n",
    "\n",
    "        return lables\n",
    "    \n",
    "    def euclidean_distance(self,x1, x2):\n",
    "        return np.sqrt(np.sum((x1-x2)**2))"
   ]
  },
  {
   "cell_type": "code",
   "execution_count": 13,
   "metadata": {},
   "outputs": [
    {
     "name": "stdout",
     "output_type": "stream",
     "text": [
      "(500, 2)\n",
      "3\n",
      "[0. 2. 1. 1. 2. 2. 0. 0. 0. 0. 2. 2. 1. 0. 2. 1. 2. 2. 0. 1. 0. 2. 2. 2.\n",
      " 0. 0. 0. 2. 0. 1. 2. 0. 2. 1. 1. 0. 2. 1. 0. 0. 2. 0. 2. 2. 1. 1. 1. 1.\n",
      " 2. 2. 1. 1. 0. 1. 1. 2. 1. 2. 1. 2. 0. 1. 2. 0. 1. 0. 0. 2. 2. 1. 1. 0.\n",
      " 2. 1. 0. 2. 2. 0. 2. 1. 0. 1. 1. 2. 1. 2. 0. 1. 1. 0. 0. 0. 2. 0. 1. 2.\n",
      " 1. 0. 1. 2. 1. 2. 1. 2. 2. 0. 2. 2. 2. 1. 1. 1. 2. 2. 2. 0. 2. 0. 0. 2.\n",
      " 1. 1. 2. 1. 2. 0. 1. 2. 2. 2. 2. 1. 1. 1. 2. 0. 2. 1. 2. 2. 0. 1. 2. 0.\n",
      " 0. 2. 0. 0. 0. 0. 2. 2. 2. 2. 0. 1. 1. 1. 0. 1. 1. 0. 1. 1. 2. 0. 1. 1.\n",
      " 2. 2. 0. 1. 2. 1. 1. 1. 1. 1. 1. 0. 2. 1. 2. 0. 2. 0. 1. 0. 2. 2. 1. 1.\n",
      " 0. 2. 1. 1. 0. 1. 1. 0. 0. 1. 2. 2. 2. 0. 0. 0. 1. 2. 2. 2. 2. 0. 1. 0.\n",
      " 2. 1. 0. 0. 1. 2. 1. 1. 1. 2. 2. 1. 1. 0. 1. 2. 0. 2. 1. 1. 2. 2. 0. 0.\n",
      " 1. 1. 0. 0. 0. 1. 1. 0. 0. 1. 0. 1. 2. 2. 1. 1. 0. 1. 2. 2. 2. 2. 2. 2.\n",
      " 0. 2. 1. 1. 0. 2. 0. 0. 0. 1. 0. 1. 2. 1. 2. 1. 2. 0. 0. 1. 1. 1. 2. 0.\n",
      " 0. 1. 1. 0. 2. 2. 0. 0. 0. 1. 2. 2. 1. 1. 2. 1. 0. 2. 2. 1. 0. 0. 2. 2.\n",
      " 2. 0. 2. 1. 1. 2. 0. 0. 2. 0. 0. 0. 0. 2. 0. 1. 2. 0. 0. 1. 1. 2. 0. 0.\n",
      " 1. 1. 1. 0. 1. 2. 0. 2. 1. 0. 1. 2. 2. 0. 2. 1. 1. 1. 2. 1. 0. 1. 0. 0.\n",
      " 0. 0. 0. 0. 0. 2. 0. 0. 0. 2. 2. 1. 2. 2. 1. 0. 0. 2. 2. 2. 1. 0. 0. 1.\n",
      " 2. 0. 2. 2. 2. 2. 0. 0. 2. 1. 1. 2. 2. 0. 1. 2. 1. 1. 0. 0. 2. 1. 1. 1.\n",
      " 2. 0. 1. 1. 0. 2. 1. 2. 2. 0. 0. 0. 1. 0. 0. 0. 1. 2. 1. 2. 1. 2. 0. 2.\n",
      " 0. 2. 2. 2. 1. 1. 1. 1. 2. 2. 0. 1. 2. 0. 1. 0. 1. 1. 1. 1. 1. 2. 0. 0.\n",
      " 0. 0. 0. 0. 2. 2. 2. 1. 2. 0. 0. 0. 1. 1. 0. 1. 0. 0. 1. 2. 0. 1. 0. 0.\n",
      " 0. 2. 0. 0. 2. 0. 1. 0. 0. 2. 2. 0. 2. 1. 0. 0. 0. 2. 1. 0.]\n"
     ]
    }
   ],
   "source": [
    "from sklearn.datasets import make_blobs\n",
    "np.random.seed(42)\n",
    "X,y = make_blobs(centers=3, n_samples=500,n_features=2, shuffle=True, random_state=40)\n",
    "print(X.shape)\n",
    "\n",
    "clusters = len(np.unique(y))\n",
    "print(clusters)\n",
    "k = KMeans(k=clusters,epochs=150)\n",
    "y_pred = k.predict(X)\n",
    "print(y_pred)"
   ]
  },
  {
   "cell_type": "code",
   "execution_count": null,
   "metadata": {},
   "outputs": [],
   "source": []
  }
 ],
 "metadata": {
  "kernelspec": {
   "display_name": "Python 3",
   "language": "python",
   "name": "python3"
  },
  "language_info": {
   "codemirror_mode": {
    "name": "ipython",
    "version": 3
   },
   "file_extension": ".py",
   "mimetype": "text/x-python",
   "name": "python",
   "nbconvert_exporter": "python",
   "pygments_lexer": "ipython3",
   "version": "3.10.1"
  },
  "orig_nbformat": 4
 },
 "nbformat": 4,
 "nbformat_minor": 2
}
