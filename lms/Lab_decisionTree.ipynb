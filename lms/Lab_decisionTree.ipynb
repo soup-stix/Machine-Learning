{
 "cells": [
  {
   "cell_type": "code",
   "execution_count": 82,
   "metadata": {},
   "outputs": [
    {
     "name": "stdout",
     "output_type": "stream",
     "text": [
      " 1) height                         0.373176\n",
      " 2) length                         0.234349\n",
      " 3) area                           0.118459\n",
      " 4) eccentricity                   0.108709\n",
      " 5) p_black                        0.106381\n",
      " 6) p_and                          0.023389\n",
      " 7) mean_tr                        0.015284\n",
      " 8) blackpix                       0.010800\n",
      " 9) blackand                       0.009452\n"
     ]
    }
   ],
   "source": [
    "from sklearn.tree import DecisionTreeClassifier\n",
    "import pandas as pd\n",
    "import numpy as np\n",
    "from sklearn.ensemble import RandomForestClassifier\n",
    "feat_labels = data.columns[0:9]\n",
    "X = data.iloc[:150,:9].values\n",
    "X_train, X_test, y_train, y_test = train_test_split(X, y, test_size=0.3, random_state=0)\n",
    "forest = RandomForestClassifier(n_estimators=1000,random_state=0,n_jobs=-1)\n",
    "forest.fit(X_train, y_train)\n",
    "importances = forest.feature_importances_\n",
    "indices = np.argsort(importances)[::-1]\n",
    "for f in range(X_train.shape[1]):\n",
    "    print(\"%2d) %-*s %f\" % (f + 1, 30,feat_labels[f],importances[indices[f]]))"
   ]
  },
  {
   "cell_type": "code",
   "execution_count": 83,
   "metadata": {},
   "outputs": [
    {
     "data": {
      "image/png": "[encoded data removed]",
      "text/plain": [
       "<matplotlib.figure.Figure at 0xbe2da7ce80>"
      ]
     },
     "metadata": {},
     "output_type": "display_data"
    }
   ],
   "source": [
    "import matplotlib.pyplot as plt\n",
    "plt.title('Feature Importances')\n",
    "plt.bar(range(X_train.shape[1]),\n",
    "importances[indices],\n",
    "color='lightgreen',\n",
    "align='center')\n",
    "plt.xticks(range(X_train.shape[1]),\n",
    "feat_labels, rotation=90)\n",
    "plt.xlim([-1, X_train.shape[1]])\n",
    "plt.tight_layout()\n",
    "plt.show()"
   ]
  },
  {
   "cell_type": "code",
   "execution_count": 84,
   "metadata": {},
   "outputs": [],
   "source": [
    "from sklearn.cross_validation import train_test_split\n",
    "data = pd.read_csv('pageblock.csv')\n",
    "data = data.sort_values(by='class')\n",
    "data=data.reset_index(drop=True)\n",
    "X = data.iloc[0:150, [1,2]].values\n",
    "y = data.iloc[0:150,10].values\n",
    "y = np.where(y == 'graphic', -1, 1)\n",
    "X_train, X_test, y_train, y_test = train_test_split(X, y, test_size=0.3, random_state=0)"
   ]
  },
  {
   "cell_type": "code",
   "execution_count": 85,
   "metadata": {},
   "outputs": [
    {
     "name": "stderr",
     "output_type": "stream",
     "text": [
      "C:\\Users\\Yashasvi\\Anaconda3\\lib\\site-packages\\sklearn\\utils\\validation.py:429: DataConversionWarning: Data with input dtype int64 was converted to float64 by StandardScaler.\n",
      "  warnings.warn(msg, _DataConversionWarning)\n"
     ]
    }
   ],
   "source": [
    "from sklearn.preprocessing import StandardScaler\n",
    "sc = StandardScaler()\n",
    "sc.fit(X_train)\n",
    "X_train_std = sc.transform(X_train)\n",
    "X_test_std = sc.transform(X_test)"
   ]
  },
  {
   "cell_type": "code",
   "execution_count": 86,
   "metadata": {},
   "outputs": [
    {
     "data": {
      "text/plain": [
       "Perceptron(alpha=0.0001, class_weight=None, eta0=0.1, fit_intercept=True,\n",
       "      n_iter=40, n_jobs=1, penalty=None, random_state=0, shuffle=True,\n",
       "      verbose=0, warm_start=False)"
      ]
     },
     "execution_count": 86,
     "metadata": {},
     "output_type": "execute_result"
    }
   ],
   "source": [
    "from sklearn.linear_model import Perceptron\n",
    "ppn = Perceptron(n_iter=40, eta0=0.1, random_state=0)\n",
    "ppn.fit(X_train_std, y_train)"
   ]
  },
  {
   "cell_type": "code",
   "execution_count": 87,
   "metadata": {},
   "outputs": [
    {
     "name": "stdout",
     "output_type": "stream",
     "text": [
      "Accuracy on training set: 1.000\n",
      "Accuracy on test set: 0.978\n"
     ]
    }
   ],
   "source": [
    "from sklearn import tree\n",
    "from sklearn.tree import export_graphviz\n",
    "tree = DecisionTreeClassifier(random_state=0)\n",
    "tree.fit(X_train, y_train)\n",
    "print(\"Accuracy on training set: {:.3f}\".format(tree.score(X_train, y_train)))\n",
    "print(\"Accuracy on test set: {:.3f}\".format(tree.score(X_test, y_test)))"
   ]
  },
  {
   "cell_type": "code",
   "execution_count": 88,
   "metadata": {
    "collapsed": true
   },
   "outputs": [],
   "source": [
    "export_graphviz(tree,out_file='tree.odt',class_names=['graphic','non-graphic'],feature_names=['height','length'],impurity=False,filled=True)"
   ]
  },
  {
   "cell_type": "code",
   "execution_count": 89,
   "metadata": {},
   "outputs": [],
   "source": [
    "import graphviz"
   ]
  },
  {
   "cell_type": "code",
   "execution_count": 90,
   "metadata": {},
   "outputs": [
    {
     "data": {
      "image/svg+xml": [
       "<?xml version=\"1.0\" encoding=\"UTF-8\" standalone=\"no\"?>\r\n",
       "<!DOCTYPE svg PUBLIC \"-//W3C//DTD SVG 1.1//EN\"\r\n",
       " \"http://www.w3.org/Graphics/SVG/1.1/DTD/svg11.dtd\">\r\n",
       "<!-- Generated by graphviz version 2.38.0 (20140413.2041)\r\n",
       " -->\r\n",
       "<!-- Title: Tree Pages: 1 -->\r\n",
       "<svg width=\"634pt\" height=\"373pt\"\r\n",
       " viewBox=\"0.00 0.00 634.00 373.00\" xmlns=\"http://www.w3.org/2000/svg\" xmlns:xlink=\"http://www.w3.org/1999/xlink\">\r\n",
       "<g id=\"graph0\" class=\"graph\" transform=\"scale(1 1) rotate(0) translate(4 369)\">\r\n",
       "<title>Tree</title>\r\n",
       "<polygon fill=\"white\" stroke=\"none\" points=\"-4,4 -4,-369 630,-369 630,4 -4,4\"/>\r\n",
       "<!-- 0 -->\r\n",
       "<g id=\"node1\" class=\"node\"><title>0</title>\r\n",
       "<polygon fill=\"#399de5\" fill-opacity=\"0.792157\" stroke=\"black\" points=\"338,-365 211,-365 211,-297 338,-297 338,-365\"/>\r\n",
       "<text text-anchor=\"middle\" x=\"274.5\" y=\"-349.8\" font-family=\"Times New Roman,serif\" font-size=\"14.00\">length &lt;= 4448.5</text>\r\n",
       "<text text-anchor=\"middle\" x=\"274.5\" y=\"-334.8\" font-family=\"Times New Roman,serif\" font-size=\"14.00\">samples = 105</text>\r\n",
       "<text text-anchor=\"middle\" x=\"274.5\" y=\"-319.8\" font-family=\"Times New Roman,serif\" font-size=\"14.00\">value = [18, 87]</text>\r\n",
       "<text text-anchor=\"middle\" x=\"274.5\" y=\"-304.8\" font-family=\"Times New Roman,serif\" font-size=\"14.00\">class = non&#45;graphic</text>\r\n",
       "</g>\r\n",
       "<!-- 1 -->\r\n",
       "<g id=\"node2\" class=\"node\"><title>1</title>\r\n",
       "<polygon fill=\"#399de5\" fill-opacity=\"0.941176\" stroke=\"black\" points=\"271,-261 144,-261 144,-193 271,-193 271,-261\"/>\r\n",
       "<text text-anchor=\"middle\" x=\"207.5\" y=\"-245.8\" font-family=\"Times New Roman,serif\" font-size=\"14.00\">length &lt;= 822.5</text>\r\n",
       "<text text-anchor=\"middle\" x=\"207.5\" y=\"-230.8\" font-family=\"Times New Roman,serif\" font-size=\"14.00\">samples = 90</text>\r\n",
       "<text text-anchor=\"middle\" x=\"207.5\" y=\"-215.8\" font-family=\"Times New Roman,serif\" font-size=\"14.00\">value = [5, 85]</text>\r\n",
       "<text text-anchor=\"middle\" x=\"207.5\" y=\"-200.8\" font-family=\"Times New Roman,serif\" font-size=\"14.00\">class = non&#45;graphic</text>\r\n",
       "</g>\r\n",
       "<!-- 0&#45;&gt;1 -->\r\n",
       "<g id=\"edge1\" class=\"edge\"><title>0&#45;&gt;1</title>\r\n",
       "<path fill=\"none\" stroke=\"black\" d=\"M252.747,-296.884C247.072,-288.243 240.881,-278.819 234.952,-269.793\"/>\r\n",
       "<polygon fill=\"black\" stroke=\"black\" points=\"237.789,-267.736 229.373,-261.299 231.938,-271.579 237.789,-267.736\"/>\r\n",
       "<text text-anchor=\"middle\" x=\"224.303\" y=\"-282.08\" font-family=\"Times New Roman,serif\" font-size=\"14.00\">True</text>\r\n",
       "</g>\r\n",
       "<!-- 6 -->\r\n",
       "<g id=\"node7\" class=\"node\"><title>6</title>\r\n",
       "<polygon fill=\"#e58139\" fill-opacity=\"0.847059\" stroke=\"black\" points=\"393.5,-261 289.5,-261 289.5,-193 393.5,-193 393.5,-261\"/>\r\n",
       "<text text-anchor=\"middle\" x=\"341.5\" y=\"-245.8\" font-family=\"Times New Roman,serif\" font-size=\"14.00\">height &lt;= 490.5</text>\r\n",
       "<text text-anchor=\"middle\" x=\"341.5\" y=\"-230.8\" font-family=\"Times New Roman,serif\" font-size=\"14.00\">samples = 15</text>\r\n",
       "<text text-anchor=\"middle\" x=\"341.5\" y=\"-215.8\" font-family=\"Times New Roman,serif\" font-size=\"14.00\">value = [13, 2]</text>\r\n",
       "<text text-anchor=\"middle\" x=\"341.5\" y=\"-200.8\" font-family=\"Times New Roman,serif\" font-size=\"14.00\">class = graphic</text>\r\n",
       "</g>\r\n",
       "<!-- 0&#45;&gt;6 -->\r\n",
       "<g id=\"edge6\" class=\"edge\"><title>0&#45;&gt;6</title>\r\n",
       "<path fill=\"none\" stroke=\"black\" d=\"M296.253,-296.884C301.928,-288.243 308.119,-278.819 314.048,-269.793\"/>\r\n",
       "<polygon fill=\"black\" stroke=\"black\" points=\"317.062,-271.579 319.627,-261.299 311.211,-267.736 317.062,-271.579\"/>\r\n",
       "<text text-anchor=\"middle\" x=\"324.697\" y=\"-282.08\" font-family=\"Times New Roman,serif\" font-size=\"14.00\">False</text>\r\n",
       "</g>\r\n",
       "<!-- 2 -->\r\n",
       "<g id=\"node3\" class=\"node\"><title>2</title>\r\n",
       "<polygon fill=\"#399de5\" stroke=\"black\" points=\"127,-149.5 -7.10543e-015,-149.5 -7.10543e-015,-96.5 127,-96.5 127,-149.5\"/>\r\n",
       "<text text-anchor=\"middle\" x=\"63.5\" y=\"-134.3\" font-family=\"Times New Roman,serif\" font-size=\"14.00\">samples = 61</text>\r\n",
       "<text text-anchor=\"middle\" x=\"63.5\" y=\"-119.3\" font-family=\"Times New Roman,serif\" font-size=\"14.00\">value = [0, 61]</text>\r\n",
       "<text text-anchor=\"middle\" x=\"63.5\" y=\"-104.3\" font-family=\"Times New Roman,serif\" font-size=\"14.00\">class = non&#45;graphic</text>\r\n",
       "</g>\r\n",
       "<!-- 1&#45;&gt;2 -->\r\n",
       "<g id=\"edge2\" class=\"edge\"><title>1&#45;&gt;2</title>\r\n",
       "<path fill=\"none\" stroke=\"black\" d=\"M160.747,-192.884C143.824,-180.896 124.769,-167.399 108.04,-155.549\"/>\r\n",
       "<polygon fill=\"black\" stroke=\"black\" points=\"109.711,-152.444 99.5281,-149.52 105.665,-158.156 109.711,-152.444\"/>\r\n",
       "</g>\r\n",
       "<!-- 3 -->\r\n",
       "<g id=\"node4\" class=\"node\"><title>3</title>\r\n",
       "<polygon fill=\"#399de5\" fill-opacity=\"0.792157\" stroke=\"black\" points=\"272,-157 145,-157 145,-89 272,-89 272,-157\"/>\r\n",
       "<text text-anchor=\"middle\" x=\"208.5\" y=\"-141.8\" font-family=\"Times New Roman,serif\" font-size=\"14.00\">height &lt;= 100.5</text>\r\n",
       "<text text-anchor=\"middle\" x=\"208.5\" y=\"-126.8\" font-family=\"Times New Roman,serif\" font-size=\"14.00\">samples = 29</text>\r\n",
       "<text text-anchor=\"middle\" x=\"208.5\" y=\"-111.8\" font-family=\"Times New Roman,serif\" font-size=\"14.00\">value = [5, 24]</text>\r\n",
       "<text text-anchor=\"middle\" x=\"208.5\" y=\"-96.8\" font-family=\"Times New Roman,serif\" font-size=\"14.00\">class = non&#45;graphic</text>\r\n",
       "</g>\r\n",
       "<!-- 1&#45;&gt;3 -->\r\n",
       "<g id=\"edge3\" class=\"edge\"><title>1&#45;&gt;3</title>\r\n",
       "<path fill=\"none\" stroke=\"black\" d=\"M207.825,-192.884C207.904,-184.778 207.99,-175.982 208.074,-167.472\"/>\r\n",
       "<polygon fill=\"black\" stroke=\"black\" points=\"211.575,-167.333 208.174,-157.299 204.576,-167.265 211.575,-167.333\"/>\r\n",
       "</g>\r\n",
       "<!-- 4 -->\r\n",
       "<g id=\"node5\" class=\"node\"><title>4</title>\r\n",
       "<polygon fill=\"#e58139\" stroke=\"black\" points=\"157,-53 56,-53 56,-0 157,-0 157,-53\"/>\r\n",
       "<text text-anchor=\"middle\" x=\"106.5\" y=\"-37.8\" font-family=\"Times New Roman,serif\" font-size=\"14.00\">samples = 5</text>\r\n",
       "<text text-anchor=\"middle\" x=\"106.5\" y=\"-22.8\" font-family=\"Times New Roman,serif\" font-size=\"14.00\">value = [5, 0]</text>\r\n",
       "<text text-anchor=\"middle\" x=\"106.5\" y=\"-7.8\" font-family=\"Times New Roman,serif\" font-size=\"14.00\">class = graphic</text>\r\n",
       "</g>\r\n",
       "<!-- 3&#45;&gt;4 -->\r\n",
       "<g id=\"edge4\" class=\"edge\"><title>3&#45;&gt;4</title>\r\n",
       "<path fill=\"none\" stroke=\"black\" d=\"M172.825,-88.9485C162.754,-79.6175 151.803,-69.4722 141.756,-60.1641\"/>\r\n",
       "<polygon fill=\"black\" stroke=\"black\" points=\"143.994,-57.4655 134.279,-53.2367 139.236,-62.6004 143.994,-57.4655\"/>\r\n",
       "</g>\r\n",
       "<!-- 5 -->\r\n",
       "<g id=\"node6\" class=\"node\"><title>5</title>\r\n",
       "<polygon fill=\"#399de5\" stroke=\"black\" points=\"302,-53 175,-53 175,-0 302,-0 302,-53\"/>\r\n",
       "<text text-anchor=\"middle\" x=\"238.5\" y=\"-37.8\" font-family=\"Times New Roman,serif\" font-size=\"14.00\">samples = 24</text>\r\n",
       "<text text-anchor=\"middle\" x=\"238.5\" y=\"-22.8\" font-family=\"Times New Roman,serif\" font-size=\"14.00\">value = [0, 24]</text>\r\n",
       "<text text-anchor=\"middle\" x=\"238.5\" y=\"-7.8\" font-family=\"Times New Roman,serif\" font-size=\"14.00\">class = non&#45;graphic</text>\r\n",
       "</g>\r\n",
       "<!-- 3&#45;&gt;5 -->\r\n",
       "<g id=\"edge5\" class=\"edge\"><title>3&#45;&gt;5</title>\r\n",
       "<path fill=\"none\" stroke=\"black\" d=\"M218.993,-88.9485C221.664,-80.5323 224.546,-71.4536 227.254,-62.9243\"/>\r\n",
       "<polygon fill=\"black\" stroke=\"black\" points=\"230.64,-63.827 230.33,-53.2367 223.968,-61.7089 230.64,-63.827\"/>\r\n",
       "</g>\r\n",
       "<!-- 7 -->\r\n",
       "<g id=\"node8\" class=\"node\"><title>7</title>\r\n",
       "<polygon fill=\"#e58139\" stroke=\"black\" points=\"392,-149.5 291,-149.5 291,-96.5 392,-96.5 392,-149.5\"/>\r\n",
       "<text text-anchor=\"middle\" x=\"341.5\" y=\"-134.3\" font-family=\"Times New Roman,serif\" font-size=\"14.00\">samples = 12</text>\r\n",
       "<text text-anchor=\"middle\" x=\"341.5\" y=\"-119.3\" font-family=\"Times New Roman,serif\" font-size=\"14.00\">value = [12, 0]</text>\r\n",
       "<text text-anchor=\"middle\" x=\"341.5\" y=\"-104.3\" font-family=\"Times New Roman,serif\" font-size=\"14.00\">class = graphic</text>\r\n",
       "</g>\r\n",
       "<!-- 6&#45;&gt;7 -->\r\n",
       "<g id=\"edge7\" class=\"edge\"><title>6&#45;&gt;7</title>\r\n",
       "<path fill=\"none\" stroke=\"black\" d=\"M341.5,-192.884C341.5,-182.326 341.5,-170.597 341.5,-159.854\"/>\r\n",
       "<polygon fill=\"black\" stroke=\"black\" points=\"345,-159.52 341.5,-149.52 338,-159.52 345,-159.52\"/>\r\n",
       "</g>\r\n",
       "<!-- 8 -->\r\n",
       "<g id=\"node9\" class=\"node\"><title>8</title>\r\n",
       "<polygon fill=\"#399de5\" fill-opacity=\"0.498039\" stroke=\"black\" points=\"537,-157 410,-157 410,-89 537,-89 537,-157\"/>\r\n",
       "<text text-anchor=\"middle\" x=\"473.5\" y=\"-141.8\" font-family=\"Times New Roman,serif\" font-size=\"14.00\">length &lt;= 42222.0</text>\r\n",
       "<text text-anchor=\"middle\" x=\"473.5\" y=\"-126.8\" font-family=\"Times New Roman,serif\" font-size=\"14.00\">samples = 3</text>\r\n",
       "<text text-anchor=\"middle\" x=\"473.5\" y=\"-111.8\" font-family=\"Times New Roman,serif\" font-size=\"14.00\">value = [1, 2]</text>\r\n",
       "<text text-anchor=\"middle\" x=\"473.5\" y=\"-96.8\" font-family=\"Times New Roman,serif\" font-size=\"14.00\">class = non&#45;graphic</text>\r\n",
       "</g>\r\n",
       "<!-- 6&#45;&gt;8 -->\r\n",
       "<g id=\"edge8\" class=\"edge\"><title>6&#45;&gt;8</title>\r\n",
       "<path fill=\"none\" stroke=\"black\" d=\"M384.357,-192.884C396.46,-183.531 409.753,-173.259 422.294,-163.568\"/>\r\n",
       "<polygon fill=\"black\" stroke=\"black\" points=\"424.634,-166.183 430.407,-157.299 420.354,-160.644 424.634,-166.183\"/>\r\n",
       "</g>\r\n",
       "<!-- 9 -->\r\n",
       "<g id=\"node10\" class=\"node\"><title>9</title>\r\n",
       "<polygon fill=\"#399de5\" stroke=\"black\" points=\"507,-53 380,-53 380,-0 507,-0 507,-53\"/>\r\n",
       "<text text-anchor=\"middle\" x=\"443.5\" y=\"-37.8\" font-family=\"Times New Roman,serif\" font-size=\"14.00\">samples = 2</text>\r\n",
       "<text text-anchor=\"middle\" x=\"443.5\" y=\"-22.8\" font-family=\"Times New Roman,serif\" font-size=\"14.00\">value = [0, 2]</text>\r\n",
       "<text text-anchor=\"middle\" x=\"443.5\" y=\"-7.8\" font-family=\"Times New Roman,serif\" font-size=\"14.00\">class = non&#45;graphic</text>\r\n",
       "</g>\r\n",
       "<!-- 8&#45;&gt;9 -->\r\n",
       "<g id=\"edge9\" class=\"edge\"><title>8&#45;&gt;9</title>\r\n",
       "<path fill=\"none\" stroke=\"black\" d=\"M463.007,-88.9485C460.336,-80.5323 457.454,-71.4536 454.746,-62.9243\"/>\r\n",
       "<polygon fill=\"black\" stroke=\"black\" points=\"458.032,-61.7089 451.67,-53.2367 451.36,-63.827 458.032,-61.7089\"/>\r\n",
       "</g>\r\n",
       "<!-- 10 -->\r\n",
       "<g id=\"node11\" class=\"node\"><title>10</title>\r\n",
       "<polygon fill=\"#e58139\" stroke=\"black\" points=\"626,-53 525,-53 525,-0 626,-0 626,-53\"/>\r\n",
       "<text text-anchor=\"middle\" x=\"575.5\" y=\"-37.8\" font-family=\"Times New Roman,serif\" font-size=\"14.00\">samples = 1</text>\r\n",
       "<text text-anchor=\"middle\" x=\"575.5\" y=\"-22.8\" font-family=\"Times New Roman,serif\" font-size=\"14.00\">value = [1, 0]</text>\r\n",
       "<text text-anchor=\"middle\" x=\"575.5\" y=\"-7.8\" font-family=\"Times New Roman,serif\" font-size=\"14.00\">class = graphic</text>\r\n",
       "</g>\r\n",
       "<!-- 8&#45;&gt;10 -->\r\n",
       "<g id=\"edge10\" class=\"edge\"><title>8&#45;&gt;10</title>\r\n",
       "<path fill=\"none\" stroke=\"black\" d=\"M509.175,-88.9485C519.246,-79.6175 530.197,-69.4722 540.244,-60.1641\"/>\r\n",
       "<polygon fill=\"black\" stroke=\"black\" points=\"542.764,-62.6004 547.721,-53.2367 538.006,-57.4655 542.764,-62.6004\"/>\r\n",
       "</g>\r\n",
       "</g>\r\n",
       "</svg>\r\n"
      ],
      "text/plain": [
       "<graphviz.files.Source at 0xbe2cb1d0b8>"
      ]
     },
     "execution_count": 90,
     "metadata": {},
     "output_type": "execute_result"
    }
   ],
   "source": [
    "with open(\"tree.odt\") as f:\n",
    "    dot_graph = f.read()\n",
    "graphviz.Source(dot_graph)"
   ]
  }
 ],
 "metadata": {
  "kernelspec": {
   "display_name": "Python 3 (ipykernel)",
   "language": "python",
   "name": "python3"
  },
  "language_info": {
   "codemirror_mode": {
    "name": "ipython",
    "version": 3
   },
   "file_extension": ".py",
   "mimetype": "text/x-python",
   "name": "python",
   "nbconvert_exporter": "python",
   "pygments_lexer": "ipython3",
   "version": "3.9.13"
  }
 },
 "nbformat": 4,
 "nbformat_minor": 2
}
