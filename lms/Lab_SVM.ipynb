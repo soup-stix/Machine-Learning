{
 "cells": [
  {
   "cell_type": "code",
   "execution_count": 226,
   "metadata": {},
   "outputs": [
    {
     "data": {
      "text/html": [
       "<div>\n",
       "<style>\n",
       "    .dataframe thead tr:only-child th {\n",
       "        text-align: right;\n",
       "    }\n",
       "\n",
       "    .dataframe thead th {\n",
       "        text-align: left;\n",
       "    }\n",
       "\n",
       "    .dataframe tbody tr th {\n",
       "        vertical-align: top;\n",
       "    }\n",
       "</style>\n",
       "<table border=\"1\" class=\"dataframe\">\n",
       "  <thead>\n",
       "    <tr style=\"text-align: right;\">\n",
       "      <th></th>\n",
       "      <th>height</th>\n",
       "      <th>length</th>\n",
       "      <th>area</th>\n",
       "      <th>eccentricity</th>\n",
       "      <th>p_black</th>\n",
       "      <th>p_and</th>\n",
       "      <th>mean_tr</th>\n",
       "      <th>blackpix</th>\n",
       "      <th>blackand</th>\n",
       "      <th>web_trans</th>\n",
       "      <th>class</th>\n",
       "    </tr>\n",
       "  </thead>\n",
       "  <tbody>\n",
       "    <tr>\n",
       "      <th>0</th>\n",
       "      <td>163</td>\n",
       "      <td>161</td>\n",
       "      <td>26243</td>\n",
       "      <td>0.988</td>\n",
       "      <td>0.523</td>\n",
       "      <td>0.897</td>\n",
       "      <td>8.40</td>\n",
       "      <td>13725</td>\n",
       "      <td>23547</td>\n",
       "      <td>1634</td>\n",
       "      <td>graphic</td>\n",
       "    </tr>\n",
       "    <tr>\n",
       "      <th>1</th>\n",
       "      <td>174</td>\n",
       "      <td>471</td>\n",
       "      <td>81954</td>\n",
       "      <td>2.707</td>\n",
       "      <td>0.339</td>\n",
       "      <td>0.433</td>\n",
       "      <td>15.84</td>\n",
       "      <td>27820</td>\n",
       "      <td>35499</td>\n",
       "      <td>1756</td>\n",
       "      <td>graphic</td>\n",
       "    </tr>\n",
       "    <tr>\n",
       "      <th>2</th>\n",
       "      <td>72</td>\n",
       "      <td>96</td>\n",
       "      <td>6912</td>\n",
       "      <td>1.333</td>\n",
       "      <td>0.488</td>\n",
       "      <td>0.582</td>\n",
       "      <td>15.69</td>\n",
       "      <td>3374</td>\n",
       "      <td>4025</td>\n",
       "      <td>215</td>\n",
       "      <td>graphic</td>\n",
       "    </tr>\n",
       "    <tr>\n",
       "      <th>3</th>\n",
       "      <td>128</td>\n",
       "      <td>347</td>\n",
       "      <td>44416</td>\n",
       "      <td>2.711</td>\n",
       "      <td>0.399</td>\n",
       "      <td>0.567</td>\n",
       "      <td>13.07</td>\n",
       "      <td>17721</td>\n",
       "      <td>25163</td>\n",
       "      <td>1356</td>\n",
       "      <td>graphic</td>\n",
       "    </tr>\n",
       "    <tr>\n",
       "      <th>4</th>\n",
       "      <td>186</td>\n",
       "      <td>469</td>\n",
       "      <td>87234</td>\n",
       "      <td>2.522</td>\n",
       "      <td>0.378</td>\n",
       "      <td>0.529</td>\n",
       "      <td>22.29</td>\n",
       "      <td>33017</td>\n",
       "      <td>46133</td>\n",
       "      <td>1481</td>\n",
       "      <td>graphic</td>\n",
       "    </tr>\n",
       "  </tbody>\n",
       "</table>\n",
       "</div>"
      ],
      "text/plain": [
       "   height  length   area  eccentricity  p_black  p_and  mean_tr  blackpix  \\\n",
       "0     163     161  26243         0.988    0.523  0.897     8.40     13725   \n",
       "1     174     471  81954         2.707    0.339  0.433    15.84     27820   \n",
       "2      72      96   6912         1.333    0.488  0.582    15.69      3374   \n",
       "3     128     347  44416         2.711    0.399  0.567    13.07     17721   \n",
       "4     186     469  87234         2.522    0.378  0.529    22.29     33017   \n",
       "\n",
       "   blackand  web_trans    class  \n",
       "0     23547       1634  graphic  \n",
       "1     35499       1756  graphic  \n",
       "2      4025        215  graphic  \n",
       "3     25163       1356  graphic  \n",
       "4     46133       1481  graphic  "
      ]
     },
     "execution_count": 226,
     "metadata": {},
     "output_type": "execute_result"
    }
   ],
   "source": [
    "import pandas as pd\n",
    "import numpy as np\n",
    "df = pd.read_csv('pageblock.csv')\n",
    "df = df.sort_values(by='class')\n",
    "df = df.reset_index(drop=True)\n",
    "df.head()"
   ]
  },
  {
   "cell_type": "code",
   "execution_count": 233,
   "metadata": {},
   "outputs": [],
   "source": [
    "y = df.iloc[28:470, 10].values\n",
    "y = np.where(y == 'horizontal line', -1, 1)\n",
    "X = df.iloc[28:470, [3,9]].values\n",
    "X=(X-X.mean())/X.std()\n",
    "from sklearn.cross_validation import train_test_split\n",
    "X_train, X_test, y_train, y_test = train_test_split(X, y, test_size=0.2, random_state=0)"
   ]
  },
  {
   "cell_type": "code",
   "execution_count": 234,
   "metadata": {
    "collapsed": true
   },
   "outputs": [],
   "source": [
    "from sklearn.linear_model import SGDClassifier\n",
    "ppn = SGDClassifier(loss='perceptron')\n",
    "lr = SGDClassifier(loss='log')\n",
    "svm = SGDClassifier(loss='hinge')"
   ]
  },
  {
   "cell_type": "code",
   "execution_count": 235,
   "metadata": {},
   "outputs": [],
   "source": [
    "from sklearn.preprocessing import StandardScaler\n",
    "sc = StandardScaler()\n",
    "sc.fit(X)\n",
    "X = np.vstack(X_train)\n",
    "y = np.hstack(y_train)"
   ]
  },
  {
   "cell_type": "code",
   "execution_count": 236,
   "metadata": {},
   "outputs": [],
   "source": [
    "from matplotlib.colors import ListedColormap\n",
    "def plot_decision_regions(X, y, classifier,test_idx=None, resolution=0.02):\n",
    "    markers = ('s', 'x', 'o', '^', 'v')\n",
    "    colors = ('red', 'blue', 'lightgreen', 'gray', 'cyan')\n",
    "    cmap = ListedColormap(colors[:len(np.unique(y))])\n",
    "    # plot the decision surface\n",
    "    x1_min, x1_max = X[:, 0].min() - 1, X[:, 0].max() + 1\n",
    "    x2_min, x2_max = X[:, 1].min() - 1, X[:, 1].max() + 1\n",
    "    xx1, xx2 = np.meshgrid(np.arange(x1_min, x1_max, resolution),\n",
    "    np.arange(x2_min, x2_max, resolution))\n",
    "    Z = classifier.predict(np.array([xx1.ravel(), xx2.ravel()]).T)\n",
    "    Z = Z.reshape(xx1.shape)\n",
    "    plt.contourf(xx1, xx2, Z, alpha=0.4, cmap=cmap)\n",
    "    plt.xlim(xx1.min(), xx1.max())\n",
    "    plt.ylim(xx2.min(), xx2.max())\n",
    "    # plot all samples\n",
    "    X_test, y_test = X[test_idx, :], y[test_idx]\n",
    "    for idx, cl in enumerate(np.unique(y)):\n",
    "        plt.scatter(x=X[y == cl, 0], y=X[y == cl, 1],\n",
    "        alpha=0.9, c=cmap(idx),\n",
    "        marker=markers[idx], label=cl)\n",
    "        # highlight test samples\n",
    "        if test_idx:\n",
    "            X_test, y_test = X[test_idx, :], y[test_idx]\n",
    "            plt.scatter(X_test[:, 0], X_test[:, 1], c='',\n",
    "            alpha=1.0, linewidth=1, marker='o',\n",
    "            s=55, label='test set')"
   ]
  },
  {
   "cell_type": "code",
   "execution_count": 237,
   "metadata": {},
   "outputs": [
    {
     "data": {
      "image/png": "[encoded data removed]",
      "text/plain": [
       "<matplotlib.figure.Figure at 0xe3d01c5588>"
      ]
     },
     "metadata": {},
     "output_type": "display_data"
    }
   ],
   "source": [
    "from sklearn.svm import SVC\n",
    "import matplotlib.pyplot as plt\n",
    "svm = SVC(kernel='rbf', random_state=0,gamma=0.1,C=10.0)\n",
    "svm.fit(X,y.astype(float))\n",
    "plot_decision_regions(X.astype(float), y.astype(float), classifier=svm)\n",
    "plt.legend(loc='upper left')\n",
    "plt.show()"
   ]
  },
  {
   "cell_type": "code",
   "execution_count": 238,
   "metadata": {},
   "outputs": [
    {
     "name": "stdout",
     "output_type": "stream",
     "text": [
      "Training accuracy: 82.72%\n"
     ]
    }
   ],
   "source": [
    "y_train_pred = svm.predict(X)\n",
    "acc = np.sum(y== y_train_pred, axis=0) / X.shape[0]\n",
    "print('Training accuracy: %.2f%%' % (acc * 100))"
   ]
  },
  {
   "cell_type": "code",
   "execution_count": 239,
   "metadata": {},
   "outputs": [
    {
     "name": "stdout",
     "output_type": "stream",
     "text": [
      "Testing accuracy: 85.39%\n"
     ]
    }
   ],
   "source": [
    "y_test_pred = svm.predict(X_test)\n",
    "acc1 = np.sum(y_test == y_test_pred, axis=0) / X_test.shape[0]\n",
    "print('Testing accuracy: %.2f%%' % (acc1 * 100))"
   ]
  },
  {
   "cell_type": "code",
   "execution_count": null,
   "metadata": {
    "collapsed": true
   },
   "outputs": [],
   "source": []
  }
 ],
 "metadata": {
  "kernelspec": {
   "display_name": "Python 3 (ipykernel)",
   "language": "python",
   "name": "python3"
  },
  "language_info": {
   "codemirror_mode": {
    "name": "ipython",
    "version": 3
   },
   "file_extension": ".py",
   "mimetype": "text/x-python",
   "name": "python",
   "nbconvert_exporter": "python",
   "pygments_lexer": "ipython3",
   "version": "3.9.13"
  }
 },
 "nbformat": 4,
 "nbformat_minor": 2
}
