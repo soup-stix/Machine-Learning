{
 "cells": [
  {
   "cell_type": "code",
   "execution_count": 35,
   "metadata": {},
   "outputs": [
    {
     "data": {
      "text/html": [
       "<div>\n",
       "<style>\n",
       "    .dataframe thead tr:only-child th {\n",
       "        text-align: right;\n",
       "    }\n",
       "\n",
       "    .dataframe thead th {\n",
       "        text-align: left;\n",
       "    }\n",
       "\n",
       "    .dataframe tbody tr th {\n",
       "        vertical-align: top;\n",
       "    }\n",
       "</style>\n",
       "<table border=\"1\" class=\"dataframe\">\n",
       "  <thead>\n",
       "    <tr style=\"text-align: right;\">\n",
       "      <th></th>\n",
       "      <th>height</th>\n",
       "      <th>length</th>\n",
       "      <th>area</th>\n",
       "      <th>eccentricity</th>\n",
       "      <th>p_black</th>\n",
       "      <th>p_and</th>\n",
       "      <th>mean_tr</th>\n",
       "      <th>blackpix</th>\n",
       "      <th>blackand</th>\n",
       "      <th>web_trans</th>\n",
       "      <th>class</th>\n",
       "    </tr>\n",
       "  </thead>\n",
       "  <tbody>\n",
       "    <tr>\n",
       "      <th>0</th>\n",
       "      <td>163</td>\n",
       "      <td>161</td>\n",
       "      <td>26243</td>\n",
       "      <td>0.988</td>\n",
       "      <td>0.523</td>\n",
       "      <td>0.897</td>\n",
       "      <td>8.40</td>\n",
       "      <td>13725</td>\n",
       "      <td>23547</td>\n",
       "      <td>1634</td>\n",
       "      <td>graphic</td>\n",
       "    </tr>\n",
       "    <tr>\n",
       "      <th>1</th>\n",
       "      <td>174</td>\n",
       "      <td>471</td>\n",
       "      <td>81954</td>\n",
       "      <td>2.707</td>\n",
       "      <td>0.339</td>\n",
       "      <td>0.433</td>\n",
       "      <td>15.84</td>\n",
       "      <td>27820</td>\n",
       "      <td>35499</td>\n",
       "      <td>1756</td>\n",
       "      <td>graphic</td>\n",
       "    </tr>\n",
       "    <tr>\n",
       "      <th>2</th>\n",
       "      <td>72</td>\n",
       "      <td>96</td>\n",
       "      <td>6912</td>\n",
       "      <td>1.333</td>\n",
       "      <td>0.488</td>\n",
       "      <td>0.582</td>\n",
       "      <td>15.69</td>\n",
       "      <td>3374</td>\n",
       "      <td>4025</td>\n",
       "      <td>215</td>\n",
       "      <td>graphic</td>\n",
       "    </tr>\n",
       "    <tr>\n",
       "      <th>3</th>\n",
       "      <td>128</td>\n",
       "      <td>347</td>\n",
       "      <td>44416</td>\n",
       "      <td>2.711</td>\n",
       "      <td>0.399</td>\n",
       "      <td>0.567</td>\n",
       "      <td>13.07</td>\n",
       "      <td>17721</td>\n",
       "      <td>25163</td>\n",
       "      <td>1356</td>\n",
       "      <td>graphic</td>\n",
       "    </tr>\n",
       "    <tr>\n",
       "      <th>4</th>\n",
       "      <td>186</td>\n",
       "      <td>469</td>\n",
       "      <td>87234</td>\n",
       "      <td>2.522</td>\n",
       "      <td>0.378</td>\n",
       "      <td>0.529</td>\n",
       "      <td>22.29</td>\n",
       "      <td>33017</td>\n",
       "      <td>46133</td>\n",
       "      <td>1481</td>\n",
       "      <td>graphic</td>\n",
       "    </tr>\n",
       "  </tbody>\n",
       "</table>\n",
       "</div>"
      ],
      "text/plain": [
       "   height  length   area  eccentricity  p_black  p_and  mean_tr  blackpix  \\\n",
       "0     163     161  26243         0.988    0.523  0.897     8.40     13725   \n",
       "1     174     471  81954         2.707    0.339  0.433    15.84     27820   \n",
       "2      72      96   6912         1.333    0.488  0.582    15.69      3374   \n",
       "3     128     347  44416         2.711    0.399  0.567    13.07     17721   \n",
       "4     186     469  87234         2.522    0.378  0.529    22.29     33017   \n",
       "\n",
       "   blackand  web_trans    class  \n",
       "0     23547       1634  graphic  \n",
       "1     35499       1756  graphic  \n",
       "2      4025        215  graphic  \n",
       "3     25163       1356  graphic  \n",
       "4     46133       1481  graphic  "
      ]
     },
     "execution_count": 35,
     "metadata": {},
     "output_type": "execute_result"
    }
   ],
   "source": [
    "import numpy as np\n",
    "import matplotlib.pyplot as plt\n",
    "from sklearn import linear_model, datasets\n",
    "import pandas as pd\n",
    "\n",
    "data = pd.read_csv('pageblock.csv')\n",
    "data = data.sort_values(by='class')\n",
    "data = data.reset_index(drop=True)\n",
    "\n",
    "X = data.iloc[0:60, [1,9]].values\n",
    "X=(X-X.mean())/X.std()\n",
    "Y = data.iloc[0:60, 10].values\n",
    "Y = np.where(Y == 'graphic', -1, 1)\n",
    "\n",
    "data.head()"
   ]
  },
  {
   "cell_type": "code",
   "execution_count": 36,
   "metadata": {},
   "outputs": [
    {
     "data": {
      "image/png": "[encoded data removed]",
      "text/plain": [
       "<matplotlib.figure.Figure at 0xae1b8da2b0>"
      ]
     },
     "metadata": {},
     "output_type": "display_data"
    }
   ],
   "source": [
    "h = .01  # step size in the mesh\n",
    "\n",
    "logreg = linear_model.LogisticRegression(C=1e5)\n",
    "\n",
    "# we create an instance of Neighbours Classifier and fit the data.\n",
    "logreg.fit(X, Y)\n",
    "\n",
    "# Plot the decision boundary. For that, we will assign a color to each\n",
    "# point in the mesh [x_min, x_max]x[y_min, y_max].\n",
    "x_min, x_max = X[:, 0].min() - .5, X[:, 0].max() + .5\n",
    "y_min, y_max = X[:, 1].min() - .5, X[:, 1].max() + .5\n",
    "xx, yy = np.meshgrid(np.arange(x_min, x_max, h), np.arange(y_min, y_max, h))\n",
    "Z = logreg.predict(np.c_[xx.ravel(), yy.ravel()])\n",
    "\n",
    "# Put the result into a color plot\n",
    "Z = Z.reshape(xx.shape)\n",
    "plt.figure(1, figsize=(5, 5))\n",
    "plt.pcolormesh(xx, yy, Z, cmap=plt.cm.Paired)\n",
    "\n",
    "# Plot also the training points\n",
    "plt.scatter(X[:, 0], X[:, 1], c=Y, edgecolors='k', cmap=plt.cm.Paired)\n",
    "plt.xlabel('height')\n",
    "plt.ylabel('web_trans')\n",
    "\n",
    "plt.xlim(xx.min(), xx.max())\n",
    "plt.ylim(yy.min(), yy.max())\n",
    "plt.xticks(())\n",
    "plt.yticks(())\n",
    "plt.show()"
   ]
  },
  {
   "cell_type": "code",
   "execution_count": 45,
   "metadata": {
    "collapsed": true
   },
   "outputs": [],
   "source": [
    "X = data.iloc[0:60, [4,5]].values\n",
    "X=(X-X.mean())/X.std()"
   ]
  },
  {
   "cell_type": "code",
   "execution_count": 46,
   "metadata": {},
   "outputs": [
    {
     "data": {
      "image/png": "[encoded data removed]",
      "text/plain": [
       "<matplotlib.figure.Figure at 0xae1b8bcb38>"
      ]
     },
     "metadata": {},
     "output_type": "display_data"
    }
   ],
   "source": [
    "h = .01  # step size in the mesh\n",
    "\n",
    "logreg = linear_model.LogisticRegression(C=1e6)\n",
    "\n",
    "# we create an instance of Neighbours Classifier and fit the data.\n",
    "logreg.fit(X, Y)\n",
    "\n",
    "# Plot the decision boundary. For that, we will assign a color to each\n",
    "# point in the mesh [x_min, x_max]x[y_min, y_max].\n",
    "x_min, x_max = X[:, 0].min() - .5, X[:, 0].max() + .5\n",
    "y_min, y_max = X[:, 1].min() - .5, X[:, 1].max() + .5\n",
    "xx, yy = np.meshgrid(np.arange(x_min, x_max, h), np.arange(y_min, y_max, h))\n",
    "Z = logreg.predict(np.c_[xx.ravel(), yy.ravel()])\n",
    "\n",
    "# Put the result into a color plot\n",
    "Z = Z.reshape(xx.shape)\n",
    "plt.figure(1, figsize=(5, 5))\n",
    "plt.pcolormesh(xx, yy, Z, cmap=plt.cm.Paired)\n",
    "\n",
    "# Plot also the training points\n",
    "plt.scatter(X[:, 0], X[:, 1], c=Y, edgecolors='k', cmap=plt.cm.Paired)\n",
    "plt.xlabel('p_black')\n",
    "plt.ylabel('p_and')\n",
    "\n",
    "plt.xlim(xx.min(), xx.max())\n",
    "plt.ylim(yy.min(), yy.max())\n",
    "plt.xticks(())\n",
    "plt.yticks(())\n",
    "plt.show()"
   ]
  },
  {
   "cell_type": "code",
   "execution_count": null,
   "metadata": {
    "collapsed": true
   },
   "outputs": [],
   "source": []
  }
 ],
 "metadata": {
  "kernelspec": {
   "display_name": "Python 3",
   "language": "python",
   "name": "python3"
  },
  "language_info": {
   "codemirror_mode": {
    "name": "ipython",
    "version": 3
   },
   "file_extension": ".py",
   "mimetype": "text/x-python",
   "name": "python",
   "nbconvert_exporter": "python",
   "pygments_lexer": "ipython3",
   "version": "3.6.1"
  }
 },
 "nbformat": 4,
 "nbformat_minor": 2
}
